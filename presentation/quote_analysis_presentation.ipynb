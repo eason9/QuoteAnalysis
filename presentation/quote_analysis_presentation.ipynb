{
 "cells": [
  {
   "cell_type": "markdown",
   "metadata": {
    "slideshow": {
     "slide_type": "slide"
    }
   },
   "source": [
    "<h1><center>Analysis of Quote Representation in News Sources</center></h1>\n",
    "<h3><center>Mary Gibbs, Binbin Wu, Charles Garrett Eason, and Mihir Gadgil</center></h3>"
   ]
  },
  {
   "cell_type": "markdown",
   "metadata": {
    "slideshow": {
     "slide_type": "slide"
    }
   },
   "source": [
    "# Overview\n",
    "\n",
    "- An Example\n",
    "- Project Objective\n",
    "- Background\n",
    "- General Approach\n",
    "- Pipeline\n",
    "- Metrics\n",
    "- Results\n",
    "- Conclusions"
   ]
  },
  {
   "cell_type": "markdown",
   "metadata": {
    "slideshow": {
     "slide_type": "slide"
    }
   },
   "source": [
    "# An Illustrative Example of Mixed Quoting\n",
    " “President Trump took to social media to blast Marrero’s decision, accusing Democrats and Manhattan prosecutors of political retribution. ‘The __Radical Left Democrats__ have failed on all fronts, so now they are pushing local New York City and State Democrat prosecutors to go get President Trump. A thing like this has never happened to any President before. Not even close!’ he wrote.” - Caplan, 2019 | Breitbart\n",
    "\n",
    "“President Trump reacted to the ruling on Twitter, writing that __Democrats__ ‘have failed on all fronts, so now they are pushing local New York City and State Democratic prosecutors to go get President Trump. A thing like this has never happened to any President before. Not even close!’” - Fahrenthold & Marimow, 2019 | Washington Post"
   ]
  },
  {
   "cell_type": "markdown",
   "metadata": {
    "slideshow": {
     "slide_type": "slide"
    }
   },
   "source": [
    "# Project Objective \n",
    "It is common to see journalists use mixed quoting (the partial representation of full quotes) to subset and report relevant information. However, as we have already seen, sometimes journalists use mixed quoting to inject political bias (intentionally or unintentionally).\n",
    "\n",
    "This leads us to our project objective: \n",
    "\n",
    "__To develop a quote comparison algorithm to analyze how different news sources report mixed quotes.__\n"
   ]
  },
  {
   "cell_type": "markdown",
   "metadata": {
    "slideshow": {
     "slide_type": "slide"
    }
   },
   "source": [
    "# Approach \n",
    "### Our approach consists of three steps:\n",
    "1. Extract comparable and relevant quotes from news websites.\n",
    "2. Use several similarity metrics to assess quote similarity.\n",
    "3. Compare news sources in terms of quote similarity."
   ]
  },
  {
   "cell_type": "markdown",
   "metadata": {
    "slideshow": {
     "slide_type": "subslide"
    }
   },
   "source": [
    "# Media Bias\n",
    "\n",
    "<center> \n",
    "    <img src=\"image.png\">\n",
    "</center>"
   ]
  },
  {
   "cell_type": "markdown",
   "metadata": {
    "slideshow": {
     "slide_type": "subslide"
    }
   },
   "source": [
    "# Pipeline\n",
    "\n",
    "<center> \n",
    "    <img src=\"pipeline_diagram.png\">\n",
    "</center>"
   ]
  },
  {
   "cell_type": "markdown",
   "metadata": {
    "slideshow": {
     "slide_type": "subslide"
    }
   },
   "source": [
    "# Pipeline \n",
    "\n",
    "### The algorithmic pipeline consisted of 6 steps (1-3):\n",
    "* 1) Make a general recent topic search from a specific news website using News API. \n",
    "    * e.g. - We search News API in a recent time-frame for: “fox-news” and “trump AND impeach”.\n",
    "\n",
    "* 2) Extract the text and quotes from the top results (exclude quotes with less than three non-stop words). \n",
    "    * e.g. - After searching News API  for “fox-news”, we extract a corpus of quotes from the Fox News results.\n",
    "\n",
    "* 3) Use the corpus of quotes and a search API to extract related news stories from Google.\n",
    "    * e.g. - Use, “The Greatest Witch Hunt In American History!” that came from our corpus, to find related news articles from other sources."
   ]
  },
  {
   "cell_type": "markdown",
   "metadata": {
    "slideshow": {
     "slide_type": "slide"
    }
   },
   "source": [
    "# Pipeline Continued\n",
    "\n",
    "### The algorithmic pipeline consisted of 6 steps (4-6):\n",
    "* 4) Extract the top text and quotes from a specified set of news websites. \n",
    "    * e.g - After searching Google for “The Greatest Witch Hunt In American History!”, we extract a new corpus of quotes from the top results.\n",
    "\n",
    "* 5) Compare the quotes using a similarity metric: \n",
    "    * e.g. - Using our extracted corpus we use Jaccard Similarity to determine the similarity of the quotes in the corpus.\n",
    "\n",
    "* 6) Analyze quotes exhibiting high similarity. "
   ]
  },
  {
   "cell_type": "markdown",
   "metadata": {
    "slideshow": {
     "slide_type": "slide"
    }
   },
   "source": [
    "# Similarity Metric\n",
    "\n",
    "Jaccard Similarity – We determined the intersection magnitude over the union magnitude between two token sets generated from two quotes.\n",
    "$$J(A, B) = \\frac{|A{\\cap}B|}{|A{\\cup}B|}$$\n",
    "\n",
    "\n",
    "# Clustering \n",
    "\n",
    "k-means Clustering – We used Word2Vec to convert the quotes into vectors, and then we performed k-means clustering with five clusters. "
   ]
  },
  {
   "cell_type": "markdown",
   "metadata": {
    "slideshow": {
     "slide_type": "subslide"
    }
   },
   "source": [
    "# k-means Clustering Results\n",
    "\n",
    "### News Site Similarity (10/31/2019 - 11/2/2019) - No Significant Events:\n",
    "<center> \n",
    "    <img src=\"kmeans_1031_1102.png\">\n",
    "</center>"
   ]
  },
  {
   "cell_type": "markdown",
   "metadata": {
    "slideshow": {
     "slide_type": "subslide"
    }
   },
   "source": [
    "# k-means Clustering Results\n",
    "\n",
    "### News Site Similarity (11/16/2019 - 11/21/2019) - Gordon Sondland Testifies:\n",
    "<center> \n",
    "    <img src=\"kmeans_1116_1121.png\">\n",
    "</center>"
   ]
  },
  {
   "cell_type": "markdown",
   "metadata": {
    "slideshow": {
     "slide_type": "subslide"
    }
   },
   "source": [
    "# Jaccard Simlarity Results\n",
    "\n",
    "### News Site Similarity (10/31/2019 - 11/2/2019) - No Significant Events:\n",
    "<br>\n",
    "<center> \n",
    "    <img src=\"Jaccard%20Similarity-1115-1118.png\">\n",
    "</center>"
   ]
  },
  {
   "cell_type": "markdown",
   "metadata": {
    "slideshow": {
     "slide_type": "subslide"
    }
   },
   "source": [
    "# Jaccard Similarity Results\n",
    "\n",
    "### News Site Similarity (11/16/2019 - 11/21/2019) - Gordon Sondland Testifies:\n",
    "<br>\n",
    "<center> \n",
    "    <img src=\"Jaccard%20Similarity%20.png\">\n",
    "</center>"
   ]
  },
  {
   "cell_type": "markdown",
   "metadata": {
    "slideshow": {
     "slide_type": "subslide"
    }
   },
   "source": [
    "# Mixed Quotes Examples (11/16/2019 - 11/21/2019)\n",
    "\n",
    "\"In his earlier deposition behind closed doors, Sondland had said that when he asked President Trump explicitly what he wanted from Ukraine, the president told him, 'Nothing,' and reiterated that there was no __'quid pro quo.' Sondland also testified that the president told him that he simply wanted Zelensky to do what he ran on, namely fighting corruption__.\" - Pollak, 2019 | Breitbart\n",
    "\n",
    "The president challenged the “fake news” to report that he told the ambassador late in the game that “__I want nothing, want no quid pro quo, tell Zelensky to do the right thing__.” - Kurtz, 2019 | Fox News\n",
    "\n",
    "“__'I want nothing. I want nothing. I want no quid pro quo,'__ the president told a U.S. diplomat in the September phone call. Questions were swirling by then about Trump’s motivations for holding up U.S. security assistance for Ukraine as he pressed the country’s leaders to investigate his political rivals. '__Tell Zelenskiy — President Zelenskiy to do the right thing__,' Trump added in his conversation with his ambassador to the European Union, Gordon Sondland\". - Colvin, 2019 | Associated Press\n",
    "\n",
    "\"Sondland, the president noted, also made clear that Trump had told him he wanted 'nothing' from the Ukrainians and that there was no __'quid pro quo'__\". - Zurcher, 2019 | BBC"
   ]
  },
  {
   "cell_type": "markdown",
   "metadata": {
    "slideshow": {
     "slide_type": "slide"
    }
   },
   "source": [
    "# Conclusions\n",
    "\n",
    "Our approach can be used to identify mixed quoting differences/similarities in news sources.\n",
    "\n",
    "No clear patterns emerge across news sources when there is a lull in high-profile events.\n",
    "\n",
    "New sources of similar perceived political bias congregate when high-profile events take place."
   ]
  },
  {
   "cell_type": "markdown",
   "metadata": {
    "slideshow": {
     "slide_type": "slide"
    }
   },
   "source": [
    "# Limitations\n",
    "\n",
    "Concerning News API, we could only obtain news article 15 minutes after they were originally published and were limited to news articles that were published within the past month.\n",
    "\n",
    "Regarding Google API, quota limitations were an issue, resulting in a limited amout of news articles that we could obtain in a reasonable time frame. Also, Google API did not always return relevant results for certain news sources. \n",
    "\n",
    "If we had more money, we could have used News API directly, solving many of our time/quota limitations.\n",
    "\n",
    "We tried to use cosine similarity, but it took an excessive amount of time. Word2Vec might have helped with this issue.\n"
   ]
  },
  {
   "cell_type": "markdown",
   "metadata": {
    "slideshow": {
     "slide_type": "slide"
    }
   },
   "source": [
    "# References\n",
    "<br>\n",
    "<font size=\"3\">\n",
    "Caplan, J. (2019, October 7). Judge Rules Trump Must Hand Over Tax Returns to NY Prosecutors. Retrieved from https://www.breitbart.com/politics/2019/10/07/federal-judge-rules-trump-must-hand-over-tax-returns-to-new-york-prosecutors/.\n",
    "\n",
    "Colvin, J. (2019, November 21). Trump's 'no quid pro quo' call open to interpretation. Retrieved from https://apnews.com/8dcdacf5a02245e8a57bc9aec00a798c. \n",
    "\n",
    "Fahrenthold, D., Marimow, A., (2019, October 7). Federal judge rules Trump must turn over his tax returns to Manhattan DA, but Trump has appealed. Retrieved from https://www.washingtonpost.com/politics/federal-judge-rules-trump-must-turn-over-his-tax-returns-to-manhattan-da-but-trump-has-indicated-he-will-appeal/2019/10/07/29e1fda6-e8a4-11e9-85c0-85a098e47b37_story.html.\n",
    "\n",
    "Iacobelli, F., Nichols, N., Birnbaum, L., & Hammond, K. (2012). Information Finding with Robust Entity Detection: The Case of an Online News Reader. Studies in Computational Intelligence Human-Computer Interaction: The Agency Perspective, 375–387. doi: https://doi.org/10.1007/978-3-642-25691-2_16\n",
    "\n",
    "Kurtz, H. (2019, November 21). Sondland declares quid pro quo, pundits call testimony damaging to Trump. Retrieved from https://www.foxnews.com/media/sondland-declares-quid-pro-quo-pundits-call-testimony-damaging-to-trump.\n",
    "\n",
    "Marshall, I. J., Kuiper, J., & Wallace, B. C. (2016). RobotReviewer: evaluation of a system for automatically assessing bias in clinical trials. Journal of the American Medical Informatics Association, 23(1), 193–201. doi: https://doi.org/10.1093/jamia/ocv044\n",
    "\n",
    "O'Keefe, T., Pareti, S., Curran, J. R., Koprinska, I., & Honnibal, M. (2012). A Sequence Labelling Approach to Quote Attribution. Association for Computational Linguistics, 790–799. Retrieved from https://www.aclweb.org/anthology/D12-1072/?CFID=171106781&CFTOKEN=464fe32061b6c068-8C44A7AB-A71F-2821-0404FC7E347B2A2E\n",
    "\n",
    "Pareti, S., O’Keefe, T., Konstas, I., Curran, J. R., & Koprinska, I. (2013). Automatically Detecting and Attributing Indirect Quotations. Association for Computational Linguistics, 989–999. Retrieved from https://www.aclweb.org/anthology/D13-1101/\n",
    "\n",
    "Pavllo, D., Piccardi, T., & West, R. (2018). Quootstrap: Scalable Unsupervised Extraction of Quotation–Speaker Pairs from Large News Corpora via Bootstrapping. Association for the Advancement of Artificial Intelligence. Retrieved from https://arxiv.org/abs/1804.02525\n",
    "\n",
    "Pollak, J. B. (2019, November 20). Gordon Sondland: There Was a 'Quid Pro Quo' -- for White House Meeting. Retrieved from https://www.breitbart.com/national-security/2019/11/20/gordon-sondland-there-was-a-quid-pro-quo-for-white-house-meeting/.\n",
    "\n",
    "Zurcher, A. (2019, November 20). Impeachment inquiry: A bombshell for President Trump. Retrieved from https://www.bbc.com/news/world-us-canada-50495289."
   ]
  },
  {
   "cell_type": "markdown",
   "metadata": {
    "slideshow": {
     "slide_type": "slide"
    }
   },
   "source": [
    "# Background \n",
    "Partial and indirect quotation accounts for half of all reported speech; thus, it is an important area of study (Pareti, O’Keefe, Konstas, Curran, & Koprinska, 2013). \n",
    "\n",
    "In the literature, there has been some recent work done on studying quote assignment, news content identification, and bias detection:\n",
    "* Systems to identify indirect/mixed quotes and speaker assignment (O'Keefe, Pareti, Curran, Koprinska, & Honnibal, 2012; Pareti et al., 2013; Pavllo, Piccardi, & West, 2018).\n",
    "* Systems that find relevant news information given a source (Iacobelli, Nichols, Birnbaum, & Hammond, 2012).\n",
    "* Systems that automate the detection of bias in clinical trials (Marshall, Kuiper, & Wallace, 2016).\n",
    " \n",
    "\n",
    "However, the current literature is limited in terms of assessing mixed quotes to identify political bias.\n"
   ]
  }
 ],
 "metadata": {
  "celltoolbar": "Slideshow",
  "kernelspec": {
   "display_name": "Python 3",
   "language": "python",
   "name": "python3"
  },
  "language_info": {
   "codemirror_mode": {
    "name": "ipython",
    "version": 3
   },
   "file_extension": ".py",
   "mimetype": "text/x-python",
   "name": "python",
   "nbconvert_exporter": "python",
   "pygments_lexer": "ipython3",
   "version": "3.7.4"
  }
 },
 "nbformat": 4,
 "nbformat_minor": 2
}
